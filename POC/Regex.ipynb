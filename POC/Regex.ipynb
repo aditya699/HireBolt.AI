{
 "cells": [
  {
   "cell_type": "markdown",
   "metadata": {},
   "source": [
    "# This notebook will serve as a KPT for Regex , note - multiple regex genrators and yes chatgpt does a great job in the same"
   ]
  },
  {
   "cell_type": "code",
   "execution_count": null,
   "metadata": {},
   "outputs": [],
   "source": [
    "# Literal Matches\n",
    "import re\n",
    "\n",
    "pattern=re.compile(\"hello\")\n",
    "\n",
    "result=pattern.match(\"My hello world\")\n",
    "\n",
    "if result:\n",
    "    print(\"Match found\",result.group())\n",
    "else:\n",
    "    print(\"Match not found\")\n",
    "\n",
    "#Quantifiers\n",
    "    \n",
    "pattern=re.compile(\"\\d{10}\")\n",
    "\n",
    "result=pattern.findall(\"hello world 7303041453,my friend call me 9999999999\")\n",
    "\n",
    "if result:\n",
    "    print(\"Match found\",result)\n",
    "else:\n",
    "    print(\"Match not found\")\n",
    "\n",
    "\n"
   ]
  }
 ],
 "metadata": {
  "kernelspec": {
   "display_name": "base",
   "language": "python",
   "name": "python3"
  },
  "language_info": {
   "codemirror_mode": {
    "name": "ipython",
    "version": 3
   },
   "file_extension": ".py",
   "mimetype": "text/x-python",
   "name": "python",
   "nbconvert_exporter": "python",
   "pygments_lexer": "ipython3",
   "version": "3.7.6"
  }
 },
 "nbformat": 4,
 "nbformat_minor": 2
}
