{
 "cells": [
  {
   "cell_type": "markdown",
   "metadata": {},
   "source": [
    "# This notebook will serve as a KPT for Regex , note - multiple regex genrators and yes chatgpt does a great job in the same"
   ]
  },
  {
   "cell_type": "code",
   "execution_count": null,
   "metadata": {},
   "outputs": [],
   "source": [
    "# Literal Matches\n",
    "import re\n",
    "\n",
    "pattern=re.compile(\"hello\")\n",
    "\n",
    "result=pattern.match(\"My hello world\")\n",
    "\n",
    "if result:\n",
    "    print(\"Match found\",result.group())\n",
    "else:\n",
    "    print(\"Match not found\")\n",
    "\n",
    "#Quantifiers\n",
    "    \n",
    "pattern=re.compile(\"\\d{10}\")\n",
    "\n",
    "result=pattern.findall(\"hello world 7303041453,my friend call me 9999999999\")\n",
    "\n",
    "if result:\n",
    "    print(\"Match found\",result)\n",
    "else:\n",
    "    print(\"Match not found\")\n",
    "\n",
    "\n"
   ]
  },
  {
   "cell_type": "code",
   "execution_count": 4,
   "metadata": {},
   "outputs": [
    {
     "data": {
      "text/plain": [
       "'abclopkio'"
      ]
     },
     "execution_count": 4,
     "metadata": {},
     "output_type": "execute_result"
    }
   ],
   "source": [
    "a=[\"\"\"Aditya Bhatt is a student with a PG Diploma in Software Engineering for Data Science from IIIT Hyderabad, where he secured a first-place position in the Car Price Prediction hackathon. He has previous experience as a Business Analyst at Neenopal, a global management consulting firm with a focus on Data Science. His work includes working with logistics firms in Sri Lanka and SAAS clients, creating Power BI dashboards for various departments, and creating a marketplace for HR and Finance Based Dashboards in Power BI. He has also created business insights to optimize return on investment and conducted cohort analysis.', 'Ineuron.AI, a product development company, has transitioned into an ed-tech division. The division uses SQL queries to find sales insights, creates dashboards using dashboards and Power BI, mentors data analysis students and machine learning participants, and creates statistical presentations using Python, R, and BI tools for clients. The company uses a variety of skills and professions, including programming, visualization, machine learning, statistics, database, and deployment. The company has also developed personal projects such as Health Mate, House Price Prediction, and Let India breathe, which utilize various tools and methodologies.', \"The document details the author's experience and certifications. They worked in the Analytics Vidhya summer internship, where they used machine learning to increase lead scoring conversions by 23-25% and developed a Python module for students. They received a PL-900 Microsoft Certification for Power Platform. They also completed various SQL exams at HackerRank and participated in Kaggle competitions, with their submissions ranking in the top 40% in three out of five competitions. They were awarded Employee of the Quarter for Q2 2023 and DP-100 for Microsoft Certified: Azure Data Scientist Associate.\"\"\"]\n",
    "a=['abc','lop','kio']\n",
    "\n",
    "''.join(a)\n",
    "\n"
   ]
  }
 ],
 "metadata": {
  "kernelspec": {
   "display_name": "base",
   "language": "python",
   "name": "python3"
  },
  "language_info": {
   "codemirror_mode": {
    "name": "ipython",
    "version": 3
   },
   "file_extension": ".py",
   "mimetype": "text/x-python",
   "name": "python",
   "nbconvert_exporter": "python",
   "pygments_lexer": "ipython3",
   "version": "3.7.6"
  }
 },
 "nbformat": 4,
 "nbformat_minor": 2
}
