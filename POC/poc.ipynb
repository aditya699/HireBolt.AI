{
 "cells": [
  {
   "cell_type": "markdown",
   "metadata": {},
   "source": [
    " \n",
    "# This notebook is a part of understanding features for the application"
   ]
  },
  {
   "cell_type": "markdown",
   "metadata": {},
   "source": [
    "# Getting phone number from resume"
   ]
  },
  {
   "cell_type": "code",
   "execution_count": 27,
   "metadata": {},
   "outputs": [
    {
     "name": "stdout",
     "output_type": "stream",
     "text": [
      "+91 7\n",
      "No phone number found on page 2\n",
      "No phone number found on page 3\n"
     ]
    }
   ],
   "source": [
    "import PyPDF2\n",
    "import re\n",
    "from PyPDF2 import PdfReader\n",
    "\n",
    "# To get the phone number from resume\n",
    "def get_phone_number(filepath: str) -> str:\n",
    "    reader = PdfReader(filepath)\n",
    "    content_info = []\n",
    "    no_of_pages = len(reader.pages)\n",
    "    \n",
    "    for i in range(no_of_pages):\n",
    "        page = reader.pages[i]\n",
    "        content_info.append(page.extract_text())\n",
    "\n",
    "        # Modified regex pattern to allow spaces in the phone number\n",
    "        pattern = r\"\\+91\\s?\\d\"\n",
    "        \n",
    "        # Using findall to get all matches in the content\n",
    "        results = re.findall(pattern, content_info[i])\n",
    "        \n",
    "        # Check if there are any matches\n",
    "        if results:\n",
    "            for match in results:\n",
    "                print(match)\n",
    "        else:\n",
    "            print(\"No phone number found on page\", i + 1)\n",
    "\n",
    "# Example usage\n",
    "get_phone_number(\"Aditya Bhatt CV.pdf\")\n",
    "\n",
    "#Still for safety the front end form will a phone number section since don't want to miss any thing due ai community guidelines\n"
   ]
  },
  {
   "cell_type": "code",
   "execution_count": null,
   "metadata": {},
   "outputs": [],
   "source": []
  },
  {
   "cell_type": "code",
   "execution_count": null,
   "metadata": {},
   "outputs": [],
   "source": []
  },
  {
   "cell_type": "code",
   "execution_count": null,
   "metadata": {},
   "outputs": [],
   "source": []
  },
  {
   "cell_type": "code",
   "execution_count": null,
   "metadata": {},
   "outputs": [],
   "source": []
  },
  {
   "cell_type": "code",
   "execution_count": null,
   "metadata": {},
   "outputs": [],
   "source": []
  },
  {
   "cell_type": "code",
   "execution_count": null,
   "metadata": {},
   "outputs": [],
   "source": []
  },
  {
   "cell_type": "code",
   "execution_count": null,
   "metadata": {},
   "outputs": [],
   "source": []
  }
 ],
 "metadata": {
  "kernelspec": {
   "display_name": "base",
   "language": "python",
   "name": "python3"
  },
  "language_info": {
   "codemirror_mode": {
    "name": "ipython",
    "version": 3
   },
   "file_extension": ".py",
   "mimetype": "text/x-python",
   "name": "python",
   "nbconvert_exporter": "python",
   "pygments_lexer": "ipython3",
   "version": "3.7.6"
  }
 },
 "nbformat": 4,
 "nbformat_minor": 2
}
