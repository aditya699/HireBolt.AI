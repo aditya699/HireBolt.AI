{
 "cells": [
  {
   "cell_type": "markdown",
   "metadata": {},
   "source": [
    " \n",
    "# This notebook is a part of understanding features for the application"
   ]
  },
  {
   "cell_type": "markdown",
   "metadata": {},
   "source": [
    "# Getting phone number from resume"
   ]
  },
  {
   "cell_type": "code",
   "execution_count": 1,
   "metadata": {},
   "outputs": [
    {
     "name": "stdout",
     "output_type": "stream",
     "text": [
      "+91 7 303041453 \n",
      "No phone number found on page 2\n",
      "No phone number found on page 3\n"
     ]
    }
   ],
   "source": [
    "import PyPDF2\n",
    "import re\n",
    "from PyPDF2 import PdfReader\n",
    "\n",
    "# To get the phone number from resume\n",
    "def get_phone_number(filepath: str) -> str:\n",
    "    reader = PdfReader(filepath)\n",
    "    content_info = []\n",
    "    no_of_pages = len(reader.pages)\n",
    "    \n",
    "    for i in range(no_of_pages):\n",
    "        page = reader.pages[i]\n",
    "        content_info.append(page.extract_text())\n",
    "    \n",
    "\n",
    "        # Modified regex pattern to allow spaces in the phone number\n",
    "        pattern = r\"\\+91\\s?\\d\\s?\\d{9} | \\+91-d{10}\"\n",
    "        \n",
    "        # Using findall to get all matches in the content\n",
    "        results = re.findall(pattern, content_info[i])\n",
    "        \n",
    "        # Check if there are any matches\n",
    "        if results:\n",
    "            for match in results:\n",
    "                print(match)\n",
    "        else:\n",
    "            print(\"No phone number found on page\", i + 1)\n",
    "\n",
    "# Example usage\n",
    "get_phone_number(\"Aditya Bhatt CV.pdf\")\n",
    "\n",
    "#Still for safety the front end form will a phone number section since don't want to miss any thing due ai community guidelines\n"
   ]
  },
  {
   "cell_type": "code",
   "execution_count": 8,
   "metadata": {},
   "outputs": [
    {
     "name": "stdout",
     "output_type": "stream",
     "text": [
      "adityabhatt19058568031.stats@rla.du.ac.in\n",
      "No phone number found on page 2\n",
      "No phone number found on page 3\n"
     ]
    }
   ],
   "source": [
    "import PyPDF2\n",
    "import re\n",
    "from PyPDF2 import PdfReader\n",
    "\n",
    "# To get the phone number from resume\n",
    "def get_phone_number(filepath: str) -> str:\n",
    "    reader = PdfReader(filepath)\n",
    "    content_info = []\n",
    "    no_of_pages = len(reader.pages)\n",
    "    \n",
    "    for i in range(no_of_pages):\n",
    "        page = reader.pages[i]\n",
    "        content_info.append(page.extract_text())\n",
    "    \n",
    "\n",
    "        # Modified regex pattern to allow spaces in the phone number\n",
    "        pattern = r\"\\b[A-Za-z0-9._%+-]+@[A-Za-z0-9.-]+\\.[A-Z|a-z]{2,}\\b\"\n",
    "        \n",
    "        # Using findall to get all matches in the content\n",
    "        results = re.findall(pattern, content_info[i])\n",
    "        \n",
    "        # Check if there are any matches\n",
    "        if results:\n",
    "            for match in results:\n",
    "                print(match)\n",
    "        else:\n",
    "            print(\"No phone number found on page\", i + 1)\n",
    "\n",
    "# Example usage\n",
    "get_phone_number(\"C:/Users/aditya/Desktop/2024/HireBolt.AI/Data\\R1.pdf\")\n",
    "\n",
    "#Still for safety the front end form will a phone number section since don't want to miss any thing due ai community guidelines\n"
   ]
  },
  {
   "cell_type": "code",
   "execution_count": 3,
   "metadata": {},
   "outputs": [
    {
     "name": "stdout",
     "output_type": "stream",
     "text": [
      "[\" \\nAditya Bhatt   \\n+91 7 303041453  | adityabhatt19058568031.stats@rla.du.ac.in |Linkedin |Youtube |Github  \\nEDUCATIO N \\n \\nPG Diploma in Software Engineering for Data Science    (IIIT Hyderabad)                                              Jun 2022 - Dec 2023  \\nSecured 1st position in Car Price Prediction Hackathon  (AI). Portfolio 1       Portfolio 2      \\nBSC(H) Statistics                                                                 (Delhi University )               CGPA:9.14/10      Apr 2019 - Apr 202 2 \\nRelevant Project Work : Developed machine learning solution  for classification of people which would be used to allot social \\neconomic welfare to them, presented the same in Ramanujan College  and won Idea presentation Competition. Developed \\nDatabase and reporting solution for Placement Cell of the college.  \\n \\nEXPERIENCE  \\n \\nNeenopal - Business Analyst  July 2022 – Present  \\nglobal management consulting firm with a unique and specialized focus on Data Science  \\n• Worked with a logistics firm of Sri Lanka was involved in KPI Gathering, Data cleaning, Query (SQL & DAX) Development, \\nClient Handling and creating Power BI Dashboards concerning to logistics, Finance and Volume  department of the \\ncompany. This helped them to track, close tickets and optimize their operations . \\n• Worked with SAAS client to help them better manage their finances by developing dashboards for their income statement, \\nbalance sheet, and cash flow . The Power BI dashboards were customized to their specific business needs and \\npreferences, allowing them to track their financial metrics at a granular level and  take proactive actions to maximize \\ntheir profitability . \\n• Worked on Mockup.AI  , created a marketplace for HR, Finance  Based Dashboards in Power BI . \\n• Work ed on Sales Plug and play model helping companies track AOV , MAU, Product Penetration , Regional Analysis, Top N \\nSummary, Order Value Summary and Predicting Sales by integrating AI based time series forecasting (Using Prophet ) in \\nPower BI.  \\n• Creat ed business insights to optimize return on investment (ROI) by interpreting key trends in web, content, and advertising \\nanalytics, and using tools such as Tableau Prep, Tableau and Power BI  for data preparation and tracking performance. \\nAdditionally, identifying areas for improvement such as open rate, QUE, subscriptions, and cost control.  \\n• Worked on developing interactive dashboards for the GA4 playbook by using BigQuery and Power BI to track key performance \\nindicators such as daily active users, new users, repeat orders, and revenue. Additionally, conducted cohort analysis, heatmap \\nanalysis, and identified the best performing days and sources driving most of the website's traffic.  \\n• Worked with a logistics company used SQL,  Power BI & Power Query  analyzing 256 variables. Created a report to identify top \\nsales performers  helping them fastrack rewards to the best performers  \\n• Created and deployed a Power Apps -based application for comment capture and manager approval, seamlessly \\nintegrated with Power BI, Power automate  for data analysis, enabling streamlined workflows and data -driven insights.  \\nIntegrated a Power Virtual Agents  chatbot with the same for FAQ Section.  \\n• Orchestrated a comprehensive marketing performance analysis by aggregating data from Facebook, LinkedIn, Google Ads, \\nGoogle Analytics, and Klaviyo . Utilized BigQuery  to create views. The developed report, featuring visualizations and trend \\nanalyses, facilitated optimized budget allocation and contributed to enhanced marketing effectiveness.  \\n• Worked on creating  stored procedures and Power BI datasets  in healthcare analytics. Proficient in Power BI report creation, \\nwith active client management. Key contributor to strategic marketing plans and backend development  for a healthcare \\ncompany.  \\n\", \" \\nIneuron.AI  Sep 2021 –Dec 2021   \\nIneuron .AI started as a product development company, then launched its ed -tech division.  \\n•     Worked on SQL queries to find insights related to sales, creating dashboards using Tableau and Power BI  to visualize a \\ncompany's profit and student performance, mentoring data analysis students and machine learning participants , and \\ncreating statistical presentations using Python, R, and BI  tools for clients.  \\n \\nSKILLS AND PROFICIENCIES  \\n \\n• Programming (Python,  R, Pyspark ) \\n• Visualization  (Power BI, Tableau, Matplotlib, Seaborn, Plotly,  ggplot, Folium, Excel, R, Google Data Studio)  \\n• Machine Learning  (Supervised and Unsupervised Learning, ANN, CNN, Time Series Analysis, PyCaret, Pytorch, TensorFlow , \\nMLFlow , Azure ML Studio ) \\n• Statistics  (Descriptive Statistics, Inferential Statistics, Algebra, SPSS, Hypothesis Testing, Survey Sampling, Linear Modelling)  \\n• Database  (Azure Sql, MySQL, T -SQL, Postgre SQL,  SparkSQL,  MongoDB, Cassandra , MQL ) \\n• Deployment  (Flask, Streamlit, Heroku , Azure , AWS SageMaker , Docker ) \\n• Others  (Power Platform , TableauPrep , BeautifulSo up, SAP Crastal Report , Azure Data Factory ,Azure DataBricks ) \\n \\n• PERSONAL PROJECTS  / POC  \\n \\n1. Health Mate  (Heathtech) :  \\n  . Developed a web app to help users get health solutions such as medical insurance prediction, diabetes and stroke \\ndetection, and happiness index.    \\n. Utilized Python, Streamlit, Heroku, Cassandra (database), Flask, and Power BI for the development.  \\n. Implemented ETL, exploratory data analysis and visualizations, model training and deployed the app using Streamlit and \\nHeroku. The web app can help users get personalized health solutions, which would improve the user experience and \\nhelp them make informed decisions.  \\nGithub  | Demo  \\n2.House Price Prediction  (Real Estate) : \\n . Spearheaded a comprehensive AI project, incorporating methodologies to ensure seamless data processing and analysis. \\nUtilizing PySpark , I efficiently transformed and cleansed data, while Kafka facilitated data ingestion  Explainable AI  \\ntechniques ensured transparent model predictions.  \\n. Successfully Dockerized  the project, simplifying sharing and deployment, and maintained meticulous documentation to \\nenhance project understanding. Employing GitHub for version  Control.  \\n. Created AI System that helps us to predict property prices with an accuracy of 85%  \\n. Used Pyspak,  Kafka,  Pandas,  Pycaret,  Docker, Modular coding,  Github  and Explainable AI.  \\n           Github  |Technical Architecture  \\n3.Let India Breathe  (Environment Science ): \\n    . Leveraged PySpark on Azure Databricks  for data science, analyzing and modeling PM 2.5 levels across 467 files stored on \\nAzure Blob Storage. Implemented MLFlow  to deploy models, creating real -time REST endpoints. This interdisciplinary approach \\naims to provide actionable insights for policymakers and communities, bridging the gap between environmental science  and ai.  \\nDemo  \\n \", '•  Blogs:  \\n \\n         Sensitivity and Specificity   Activation Function      Spatial Analytics Using Tableau   Tips & Tricks For Power BI  \\n \\n• CERTIFICATIONS  / ACHIVEMENT S\\n \\n1.Worked in Analytics Vidhya summer internship , worked on lead scoring using machine learning and helped marketing \\nteam increase conversions by 23 -25% and developed a python module for students.  \\n2.Cleared  PL-900 Microsoft Certification  (Power Platform Fu ndamental s) \\n3.Cleared SQL Basic, Intermediate, Advanced  exam at HackerRank.  \\n4.Python,  SQL Gold Batch  at HackerRank.  \\n5. Made five submissions in Kaggle competitions ranked in top 40% in 3nd competition and ranked top 45% in 2nd \\ncompetition  \\n6. Awarded Employee of the Quarter for Q2 2023  \\n7.Cleared DP -100 (Microsoft Certified: Azure Data Scientist Associate)   ']\n"
     ]
    }
   ],
   "source": [
    "filepath=\"C:/Users/aditya/Desktop/2024/HireBolt.AI/POC/Aditya Bhatt CV.pdf\"\n",
    "reader = PdfReader(filepath)\n",
    "content_info = []\n",
    "no_of_pages = len(reader.pages)\n",
    "    \n",
    "for i in range(no_of_pages):\n",
    "    page = reader.pages[i]\n",
    "    content_info.append(page.extract_text())\n",
    "print(content_info)"
   ]
  },
  {
   "cell_type": "code",
   "execution_count": 1,
   "metadata": {},
   "outputs": [
    {
     "name": "stdout",
     "output_type": "stream",
     "text": [
      "C:/Users/aditya/Desktop/2024/HireBolt.AI/Data\\R1.pdf\n",
      "C:/Users/aditya/Desktop/2024/HireBolt.AI/Data\\R2.pdf\n",
      "C:/Users/aditya/Desktop/2024/HireBolt.AI/Data\\R3.pdf\n"
     ]
    }
   ],
   "source": [
    "import os\n",
    "\n",
    "def get_file_paths(folder_path):\n",
    "    # Get a list of all files in the specified folder\n",
    "    file_paths = [os.path.join(folder_path, file) for file in os.listdir(folder_path) if os.path.isfile(os.path.join(folder_path, file))]\n",
    "    return file_paths\n",
    "\n",
    "# Specify the folder path\n",
    "folder_path = \"C:/Users/aditya/Desktop/2024/HireBolt.AI/Data\"\n",
    "\n",
    "# Get file paths in the folder\n",
    "file_paths = get_file_paths(folder_path)\n",
    "\n",
    "# Print the file paths\n",
    "for file_path in file_paths:\n",
    "    print(file_path)\n"
   ]
  },
  {
   "cell_type": "code",
   "execution_count": 11,
   "metadata": {},
   "outputs": [
    {
     "name": "stdout",
     "output_type": "stream",
     "text": [
      "[\"I N D U S T R Y  E X P E R I E N C E\\nD a t a  A n a l y s t\\nJ P  M o r g a n  C h a s e  a n d  C o\\n•A c q u i r e d  p r o f i c i e n t  c o m m a n d  o f  E x c e l  f u n c t i o n a l i t i e s  a n d  d a t a  a n a l y s i s  t e c h n i q u e s ,  i n c l u d i n g  d a t a  \\nc l e a n s i n g ,  a n d  m a n i p u l a t i o n ,  a n d  c o n d i t i o n a l  f o r m a t t i n g  t e c h n i q u e s .\\n•A c q u i r e d  p r o f i c i e n c y  i n  a u t o m a t i o n  b y  l e a r n i n g  t o  r e c o r d  m a c r o s  a n d  s c r i p t  i n  V i s u a l  B a s i c  f o r  A p p l i c a t i o n s  \\n( V B A ) ,  d e v e l o p i n g  t w o  f u n c t i o n a l  m a c r o s  i n t e g r a t e d  w i t h  b u t t o n s  u s i n g  a c c o u n t  s a l e s  d a t a .\\n•G a i n e d  e x p e r t i s e  i n  d a t a  v i s u a l i z a t i o n  a n d  s t o r y t e l l i n g  u s i n g  E x c e l  a n d  P o w e r P o i n t  b y  c r e a t i n g  i m p a c t f u l  \\nc h a r t s  a n d  i n t e r a c t i v e  d a s h b o a r d s\\nD a t a  A n a l y s t - P o w e r  B I  A s s o c i a t e\\nP w C  S w i t z e r l a n d\\n•T h i s  w a s  a  j o b  s i m u l a t i o n  w h e r e  I  s t r e n g t h e n e d  m y  P o w e r  B I  s k i l l s  t o  b e t t e r  u n d e r s t a n d  c l i e n t s  a n d  t h e i r  \\nd a t a  v i s u a l i s a t i o n  n e e d s\\n•D e m o n s t r a t e d  e x p e r t i s e  i n  d a t a  v i s u a l i z a t i o n  t h r o u g h  t h e  c r e a t i o n  o f  P o w e r  B I  d a s h b o a r d s  t h a t  e f f e c t i v e l y  \\nc o n v e y e d  K P I s ,  s h o w c a s i n g  t h e  a b i l i t y  t o  r e s p o n d  t o  c l i e n t  r e q u e s t s  w i t h  w e l l - d e s i g n e d  s o l u t i o n\\n•S t r o n g  c o m m u n i c a t i o n  s k i l l s  r e f l e c t e d  i n  t h e  c o n c i s e  a n d  i n f o r m a t i v e  e m a i l  c o m m u n i c a t i o n  w i t h  \\ne n g a g e m e n t  p a r t n e r s ,  d e l i v e r i n g  v a l u a b l e  i n s i g h t s  a n d  a c t i o n a b l e  s u g g e s t i o n s  b a s e d  o n  d a t a  a n a l y s i s\\n•L e v e r a g e d  a n a l y t i c a l  p r o b l e m - s o l v i n g  s k i l l s  t o  e x a m i n e  H R  d a t a ,  p a r t i c u l a r l y  f o c u s i n g  o n  g e n d e r - r e l a t e d  \\nK P I s ,  a n d  i d e n t i f i e d  r o o t  c a u s e s  f o r  g e n d e r  b a l a n c e  i s s u e s  a t  t h e  e x e c u t i v e  m a n a g e m e n t  l e v e l ,  h i g h l i g h t i n g  a  \\nc o m m i t m e n t  t o  d a t a - d r i v e n  d e c i s i o n - m a k i n g\\nD a t a  A n a l y s t\\nT A T A  G r o u p\\n•D a t a  C l e a n i n g :  H a n d l e d  o v e r  2 . 5 m i l l i o n  d a t a  r e c o r d s  t o  a n a l y z e  s u i t a b l e  b u s i n e s s  m e t r i c s  f o r  t h e  e x i s t i n g  \\nd a t a\\n•C r e a t e d  b u s i n e s s  m e t r i c s  l i k e  R e v e n u e ,  S a l e s , P r o f i t  % ,  Y o Y  s a l e s  % ,  Y o Y  c o m p a n y  g r o w t h  %\\n•E f f i c i e n t  h a n d l i n g  o f  n u l l / m i s s i n g  v a l u e s ,  d u p l i c a t e s ,  f o r m u l a  e r r o r s ,  c r e a t e d  m e a s u r e s ,  a n d  c a l c u l a t e d  \\nc o l u m n s  u s i n g  D A X  f u n c t i o n s\\n•P r e p a r e d  q u e s t i o n s  f o r  a  m e e t i n g  w i t h  c l i e n t  s e n i o r  l e a d e r s h i p\\n•C r e a t e d  v i s u a l s  f o r  d a t a  a n a l y s i s  t o  h e l p  e x e c u t i v e s  w i t h  e f f e c t i v e  d e c i s i o n  m a k i n g\\nE D U C A T I O N\\nD a t a  a n d  B u s i n e s s  A n a l y t i c s\\nC o d e b a s i c s . i o\\n•L e a r n t  a n d  i m p l e m e n t e d  t o o l s  l i k e  P y t h o n  ( N u m p y ,  P a n d a s ,  M a t p l o t  l i b r a r i e s ) ,  M S  \\nP o w e r  B I ,  T a b l e a u ,  S Q L ,  M S  E x c e l ,  &  G o o g l e  D a t a  S t u d i o2 0 2 3\\n•C r a f t e d  1 4  P r o j e c t s  u s i n g  i n d u s t r y  s p e c i f i c  d a t a s e t s  u s i n g  t h e s e  t o o l s\\nB a c h e l o r ' s  i n  M e c h a n i c a l  E n g i n e e r i n g\\nN M A M I T  ( N i t t e  U n i v e r s i t y )\\n•S e c u r e d  6 . 7 7  G P A  a c r o s s  8  s e m e s t e r s2 0 1 2  –  2 0 1 7\\nK a r k a l a ,  I n d i a\\n•S u c c e s s f u l l y  l e d  a  F i n a l  y e a r  p r o j e c t  w i t h  a  G P A  o f  1 0 . 0  ( S u r f a c e  R o u g h n e s s  o f  \\nB i o d e g r a d a b l e  M a g n e s i u m - C a l c i u m  A l l o y )\\n•C o m p l e t e d  a  c e r t i f i e d  2 - w e e k  I n t e r n s h i p  i n  L a m i n a  F o u n d r i e s  ( N i t t e ,  I n d i a )  i n  \\nF o r g i n g ,  F o u n d r y ,  a n d  C a s t i n g  d e p a r t m e n t s .J o y s o n  P r i n c e  A l v a r e s\\n+ 9 1 - 7 6 2 4 8 9 2 9 3 1 h t t p s : / / l i n k e d i n . c o m / i n / p r i n c e - j o y s o n 7 j o y s o n a l v a r e z 7 @ g m a i l . c o m\\nP y t h o n  P r o j e c t s - K a g g l e T a b l e a u L i n k T r e e G i t h u b\", 'S K I L L S\\nM i c r o s o f t  P o w e r  B I\\nD a t a  V i s u a l i z a t i o n ,  D a t a  c l e a n i n g  a n d  R e p o r t i n g  P r i n c i p l e s\\nM i c r o s o f t  E x c e l\\nP o w e r  Q u e r y ,  P o w e r  p i v o t ,  P i v o t  t a b l e s ,  D a s h b o a r d  c r e a t i o n\\nS Q L\\nM y S Q L  S e r v e r\\nP y t h o n\\nN u m p y ,  P a n d a s ,  M a t p l o t l i b ,  D a t e T i m e  l i b r a r i e s\\nT a b l e a u\\nD a t a  V i s u a l i z a t i o n ,  B u s i n e s s  m e t r i c s  w i t h  C a l c u l a t e d  f i e l d s ,  L o l l y p o p  v i s u a l  a n d  D o n u t  c h a r t\\nG o o g l e  D a t a  S t u d i o\\nG o o g l e  S h e e t s  i n t e g r a t i o n ,  D a t a  v i s u a l i z a t i o n\\nR e p o r t s  a n d  d y n a m i c  D a s h b o a r d  g e n e r a t i o n\\nD e l i v e r i n g  u s e r  e m p a t h e t i c  r e p o r t s ,  d a s h b o a r d s\\nC E R T I F I C A T E S\\nD a t a  a n d  B u s i n e s s  A n a l y t i c s L e a n  S i x  S i g m a - B l a c k  B e l t\\nI s s u e d  b y  t h e  G o v e r n m e n t  o f  \\nI n d i a  u n d e r  M i n i s t r y  o f  M S M E\\nL A N G U A G E S\\nE n g l i s h\\nL e v e l  C 1  ( B r i t i s h  C o u n c i l  C e r t i f i c a t e )\\nK a n n a d aH i n d i\\nI N T E R E S T S\\nR e s i s t a n c e  T r a i n i n g | O u t d o o r  S p o r t s']\n"
     ]
    }
   ],
   "source": [
    "filepath=\"C:/Users/aditya/Desktop/2024/HireBolt.AI/Data/JP-DA-Resume.pdf\"\n",
    "import PyPDF2\n",
    "import re\n",
    "from PyPDF2 import PdfReader\n",
    "reader = PdfReader(filepath)\n",
    "content_info = []\n",
    "no_of_pages = len(reader.pages)\n",
    "    \n",
    "for i in range(no_of_pages):\n",
    "    page = reader.pages[i]\n",
    "    content_info.append(page.extract_text())\n",
    "print(content_info)"
   ]
  },
  {
   "cell_type": "code",
   "execution_count": 6,
   "metadata": {},
   "outputs": [
    {
     "name": "stdout",
     "output_type": "stream",
     "text": [
      "['Not able to extract']\n"
     ]
    }
   ],
   "source": [
    "import PyPDF2\n",
    "import re\n",
    "filepath=\"C:/Users/aditya/Desktop/2024/HireBolt.AI/React-js/Rakholiya Neel.pdf\"\n",
    "from PyPDF2 import PdfReader\n",
    "reader = PdfReader(filepath)\n",
    "content_info = []\n",
    "no_of_pages = len(reader.pages)\n",
    "    \n",
    "for i in range(no_of_pages):\n",
    "    page = reader.pages[i]\n",
    "    content_info.append(page.extract_text())\n",
    "    if content_info ==[''] :\n",
    "        content_info.clear()\n",
    "        content_info.append('Not able to extract')\n",
    "print(content_info)"
   ]
  },
  {
   "cell_type": "code",
   "execution_count": null,
   "metadata": {},
   "outputs": [],
   "source": []
  },
  {
   "cell_type": "code",
   "execution_count": null,
   "metadata": {},
   "outputs": [],
   "source": []
  }
 ],
 "metadata": {
  "kernelspec": {
   "display_name": "base",
   "language": "python",
   "name": "python3"
  },
  "language_info": {
   "codemirror_mode": {
    "name": "ipython",
    "version": 3
   },
   "file_extension": ".py",
   "mimetype": "text/x-python",
   "name": "python",
   "nbconvert_exporter": "python",
   "pygments_lexer": "ipython3",
   "version": "3.7.6"
  }
 },
 "nbformat": 4,
 "nbformat_minor": 2
}
