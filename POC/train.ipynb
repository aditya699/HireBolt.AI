{
 "cells": [
  {
   "cell_type": "code",
   "execution_count": 1,
   "metadata": {},
   "outputs": [],
   "source": [
    "import numpy as np\n",
    "import pandas as pd\n"
   ]
  },
  {
   "cell_type": "code",
   "execution_count": 2,
   "metadata": {},
   "outputs": [],
   "source": [
    "data=pd.read_csv(\"C:/Users/aditya/Desktop/2024/HireBolt.AI/Appliciants.csv\")"
   ]
  },
  {
   "cell_type": "code",
   "execution_count": 3,
   "metadata": {},
   "outputs": [
    {
     "data": {
      "text/html": [
       "<div>\n",
       "<style scoped>\n",
       "    .dataframe tbody tr th:only-of-type {\n",
       "        vertical-align: middle;\n",
       "    }\n",
       "\n",
       "    .dataframe tbody tr th {\n",
       "        vertical-align: top;\n",
       "    }\n",
       "\n",
       "    .dataframe thead th {\n",
       "        text-align: right;\n",
       "    }\n",
       "</style>\n",
       "<table border=\"1\" class=\"dataframe\">\n",
       "  <thead>\n",
       "    <tr style=\"text-align: right;\">\n",
       "      <th></th>\n",
       "      <th>Unnamed: 0</th>\n",
       "      <th>email_id</th>\n",
       "      <th>phone_number</th>\n",
       "      <th>summary</th>\n",
       "    </tr>\n",
       "  </thead>\n",
       "  <tbody>\n",
       "    <tr>\n",
       "      <th>0</th>\n",
       "      <td>0</td>\n",
       "      <td>['gbp.bhaskar@gmail.com']</td>\n",
       "      <td>['8056248707']</td>\n",
       "      <td>[[\"Bhaskar G is an IT professional with 13 yea...</td>\n",
       "    </tr>\n",
       "    <tr>\n",
       "      <th>1</th>\n",
       "      <td>1</td>\n",
       "      <td>[None]</td>\n",
       "      <td>[None]</td>\n",
       "      <td>[['The document is a list of references for va...</td>\n",
       "    </tr>\n",
       "    <tr>\n",
       "      <th>2</th>\n",
       "      <td>2</td>\n",
       "      <td>['amrit12june90@gmail.com']</td>\n",
       "      <td>['(+91)\\n814\\n351\\n4822']</td>\n",
       "      <td>[['The document is a list of profiles from sev...</td>\n",
       "    </tr>\n",
       "    <tr>\n",
       "      <th>3</th>\n",
       "      <td>3</td>\n",
       "      <td>['adityabhatt19058568031.stats@rla.du.ac.in']</td>\n",
       "      <td>['+91 7 303041453']</td>\n",
       "      <td>[['Aditya Bhatt is a student with a PG Diploma...</td>\n",
       "    </tr>\n",
       "    <tr>\n",
       "      <th>4</th>\n",
       "      <td>4</td>\n",
       "      <td>['richabudhraja8@gmail.com']</td>\n",
       "      <td>['9090302071']</td>\n",
       "      <td>[['Richa Kaur is a business analyst with a bac...</td>\n",
       "    </tr>\n",
       "  </tbody>\n",
       "</table>\n",
       "</div>"
      ],
      "text/plain": [
       "   Unnamed: 0                                       email_id  \\\n",
       "0           0                      ['gbp.bhaskar@gmail.com']   \n",
       "1           1                                         [None]   \n",
       "2           2                    ['amrit12june90@gmail.com']   \n",
       "3           3  ['adityabhatt19058568031.stats@rla.du.ac.in']   \n",
       "4           4                   ['richabudhraja8@gmail.com']   \n",
       "\n",
       "                phone_number  \\\n",
       "0             ['8056248707']   \n",
       "1                     [None]   \n",
       "2  ['(+91)\\n814\\n351\\n4822']   \n",
       "3        ['+91 7 303041453']   \n",
       "4             ['9090302071']   \n",
       "\n",
       "                                             summary  \n",
       "0  [[\"Bhaskar G is an IT professional with 13 yea...  \n",
       "1  [['The document is a list of references for va...  \n",
       "2  [['The document is a list of profiles from sev...  \n",
       "3  [['Aditya Bhatt is a student with a PG Diploma...  \n",
       "4  [['Richa Kaur is a business analyst with a bac...  "
      ]
     },
     "execution_count": 3,
     "metadata": {},
     "output_type": "execute_result"
    }
   ],
   "source": [
    "data.head()"
   ]
  },
  {
   "cell_type": "code",
   "execution_count": 4,
   "metadata": {},
   "outputs": [],
   "source": [
    "data.drop(\"Unnamed: 0\",axis=1,inplace=True)"
   ]
  },
  {
   "cell_type": "code",
   "execution_count": 5,
   "metadata": {},
   "outputs": [
    {
     "data": {
      "text/html": [
       "<div>\n",
       "<style scoped>\n",
       "    .dataframe tbody tr th:only-of-type {\n",
       "        vertical-align: middle;\n",
       "    }\n",
       "\n",
       "    .dataframe tbody tr th {\n",
       "        vertical-align: top;\n",
       "    }\n",
       "\n",
       "    .dataframe thead th {\n",
       "        text-align: right;\n",
       "    }\n",
       "</style>\n",
       "<table border=\"1\" class=\"dataframe\">\n",
       "  <thead>\n",
       "    <tr style=\"text-align: right;\">\n",
       "      <th></th>\n",
       "      <th>email_id</th>\n",
       "      <th>phone_number</th>\n",
       "      <th>summary</th>\n",
       "    </tr>\n",
       "  </thead>\n",
       "  <tbody>\n",
       "    <tr>\n",
       "      <th>0</th>\n",
       "      <td>['gbp.bhaskar@gmail.com']</td>\n",
       "      <td>['8056248707']</td>\n",
       "      <td>[[\"Bhaskar G is an IT professional with 13 yea...</td>\n",
       "    </tr>\n",
       "    <tr>\n",
       "      <th>1</th>\n",
       "      <td>[None]</td>\n",
       "      <td>[None]</td>\n",
       "      <td>[['The document is a list of references for va...</td>\n",
       "    </tr>\n",
       "    <tr>\n",
       "      <th>2</th>\n",
       "      <td>['amrit12june90@gmail.com']</td>\n",
       "      <td>['(+91)\\n814\\n351\\n4822']</td>\n",
       "      <td>[['The document is a list of profiles from sev...</td>\n",
       "    </tr>\n",
       "    <tr>\n",
       "      <th>3</th>\n",
       "      <td>['adityabhatt19058568031.stats@rla.du.ac.in']</td>\n",
       "      <td>['+91 7 303041453']</td>\n",
       "      <td>[['Aditya Bhatt is a student with a PG Diploma...</td>\n",
       "    </tr>\n",
       "    <tr>\n",
       "      <th>4</th>\n",
       "      <td>['richabudhraja8@gmail.com']</td>\n",
       "      <td>['9090302071']</td>\n",
       "      <td>[['Richa Kaur is a business analyst with a bac...</td>\n",
       "    </tr>\n",
       "  </tbody>\n",
       "</table>\n",
       "</div>"
      ],
      "text/plain": [
       "                                        email_id               phone_number  \\\n",
       "0                      ['gbp.bhaskar@gmail.com']             ['8056248707']   \n",
       "1                                         [None]                     [None]   \n",
       "2                    ['amrit12june90@gmail.com']  ['(+91)\\n814\\n351\\n4822']   \n",
       "3  ['adityabhatt19058568031.stats@rla.du.ac.in']        ['+91 7 303041453']   \n",
       "4                   ['richabudhraja8@gmail.com']             ['9090302071']   \n",
       "\n",
       "                                             summary  \n",
       "0  [[\"Bhaskar G is an IT professional with 13 yea...  \n",
       "1  [['The document is a list of references for va...  \n",
       "2  [['The document is a list of profiles from sev...  \n",
       "3  [['Aditya Bhatt is a student with a PG Diploma...  \n",
       "4  [['Richa Kaur is a business analyst with a bac...  "
      ]
     },
     "execution_count": 5,
     "metadata": {},
     "output_type": "execute_result"
    }
   ],
   "source": [
    "data.head()"
   ]
  },
  {
   "cell_type": "code",
   "execution_count": 27,
   "metadata": {},
   "outputs": [],
   "source": [
    "data['summary'] = data['summary'].apply(lambda x: x[3:-3] if type(x) is str and len(x) >= 6 else x)"
   ]
  },
  {
   "cell_type": "code",
   "execution_count": 28,
   "metadata": {},
   "outputs": [
    {
     "data": {
      "text/html": [
       "<div>\n",
       "<style scoped>\n",
       "    .dataframe tbody tr th:only-of-type {\n",
       "        vertical-align: middle;\n",
       "    }\n",
       "\n",
       "    .dataframe tbody tr th {\n",
       "        vertical-align: top;\n",
       "    }\n",
       "\n",
       "    .dataframe thead th {\n",
       "        text-align: right;\n",
       "    }\n",
       "</style>\n",
       "<table border=\"1\" class=\"dataframe\">\n",
       "  <thead>\n",
       "    <tr style=\"text-align: right;\">\n",
       "      <th></th>\n",
       "      <th>email_id</th>\n",
       "      <th>phone_number</th>\n",
       "      <th>summary</th>\n",
       "    </tr>\n",
       "  </thead>\n",
       "  <tbody>\n",
       "    <tr>\n",
       "      <th>0</th>\n",
       "      <td>['gbp.bhaskar@gmail.com']</td>\n",
       "      <td>['8056248707']</td>\n",
       "      <td>Bhaskar G is an IT professional with 13 years ...</td>\n",
       "    </tr>\n",
       "    <tr>\n",
       "      <th>1</th>\n",
       "      <td>[None]</td>\n",
       "      <td>[None]</td>\n",
       "      <td>The document is a list of references for vario...</td>\n",
       "    </tr>\n",
       "    <tr>\n",
       "      <th>2</th>\n",
       "      <td>['amrit12june90@gmail.com']</td>\n",
       "      <td>['(+91)\\n814\\n351\\n4822']</td>\n",
       "      <td>The document is a list of profiles from severa...</td>\n",
       "    </tr>\n",
       "    <tr>\n",
       "      <th>3</th>\n",
       "      <td>['adityabhatt19058568031.stats@rla.du.ac.in']</td>\n",
       "      <td>['+91 7 303041453']</td>\n",
       "      <td>Aditya Bhatt is a student with a PG Diploma in...</td>\n",
       "    </tr>\n",
       "    <tr>\n",
       "      <th>4</th>\n",
       "      <td>['richabudhraja8@gmail.com']</td>\n",
       "      <td>['9090302071']</td>\n",
       "      <td>Richa Kaur is a business analyst with a backgr...</td>\n",
       "    </tr>\n",
       "  </tbody>\n",
       "</table>\n",
       "</div>"
      ],
      "text/plain": [
       "                                        email_id               phone_number  \\\n",
       "0                      ['gbp.bhaskar@gmail.com']             ['8056248707']   \n",
       "1                                         [None]                     [None]   \n",
       "2                    ['amrit12june90@gmail.com']  ['(+91)\\n814\\n351\\n4822']   \n",
       "3  ['adityabhatt19058568031.stats@rla.du.ac.in']        ['+91 7 303041453']   \n",
       "4                   ['richabudhraja8@gmail.com']             ['9090302071']   \n",
       "\n",
       "                                             summary  \n",
       "0  Bhaskar G is an IT professional with 13 years ...  \n",
       "1  The document is a list of references for vario...  \n",
       "2  The document is a list of profiles from severa...  \n",
       "3  Aditya Bhatt is a student with a PG Diploma in...  \n",
       "4  Richa Kaur is a business analyst with a backgr...  "
      ]
     },
     "execution_count": 28,
     "metadata": {},
     "output_type": "execute_result"
    }
   ],
   "source": [
    "data.head()"
   ]
  }
 ],
 "metadata": {
  "kernelspec": {
   "display_name": "base",
   "language": "python",
   "name": "python3"
  },
  "language_info": {
   "codemirror_mode": {
    "name": "ipython",
    "version": 3
   },
   "file_extension": ".py",
   "mimetype": "text/x-python",
   "name": "python",
   "nbconvert_exporter": "python",
   "pygments_lexer": "ipython3",
   "version": "3.7.6"
  }
 },
 "nbformat": 4,
 "nbformat_minor": 2
}
